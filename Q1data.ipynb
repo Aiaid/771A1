{
 "cells": [
  {
   "cell_type": "code",
   "execution_count": 1,
   "metadata": {},
   "outputs": [],
   "source": [
    "import pandas as pd\n",
    "import os,datetime\n",
    "import re"
   ]
  },
  {
   "cell_type": "code",
   "execution_count": 2,
   "metadata": {},
   "outputs": [],
   "source": [
    "folder_name=['home/771data','cn/771data','ca/771data','jp/771data']\n",
    "columns_name_p2p=['cn2cahome','cn2ca','cn2jp','ca2jp','ca2cahome','jp2cahome','home2ca','home2cn','home2jp','home2cahome']\n",
    "distance_p2p=[9186,11559,1920,10346,3360,7548,11644,566,2432,9478]\n",
    "columns_name_type=['Loss_Rate','RTT_Min','RTT_Max','RTT_Avg','RTT_stddev','stddev/Avg','Distance(est)(km)','Avg/Distance','Number_of_Hops']\n",
    "columns_name=['time+0(UTC)','time_+8(cn/home)','time_+9(jp)','time_-5(ca)']\n",
    "for i in columns_name_p2p:\n",
    "    for j in columns_name_type:\n",
    "        columns_name.append(i+'_'+j)"
   ]
  },
  {
   "cell_type": "code",
   "execution_count": 3,
   "metadata": {},
   "outputs": [
    {
     "name": "stdout",
     "output_type": "stream",
     "text": [
      "home/771data 1855\n",
      "cn/771data 2196\n",
      "ca/771data 2196\n",
      "jp/771data 2195\n"
     ]
    }
   ],
   "source": [
    "for i in folder_name:\n",
    "    print(i,len(os.listdir(i)))"
   ]
  },
  {
   "cell_type": "code",
   "execution_count": 4,
   "metadata": {},
   "outputs": [],
   "source": [
    "data=pd.DataFrame(columns=columns_name,index=os.listdir('cn/771data')[1:])"
   ]
  },
  {
   "cell_type": "code",
   "execution_count": 5,
   "metadata": {},
   "outputs": [],
   "source": [
    "data=data.sort_index()"
   ]
  },
  {
   "cell_type": "code",
   "execution_count": 6,
   "metadata": {},
   "outputs": [],
   "source": [
    "def readin(data):\n",
    "    for i in data.index:\n",
    "        ## time\n",
    "        #print(i)\n",
    "        data.loc[i]['time_+8(cn/home)']=i\n",
    "        ## Distance \n",
    "        for j in columns_name_p2p:\n",
    "            data.loc[i][j+'_Distance(est)(km)']=str(distance_p2p[columns_name_p2p.index(j)])\n",
    "        ## cn\n",
    "        folder='cn/771data'\n",
    "        for j in ['home','ca','jp']:\n",
    "            pf='cn'\n",
    "            column=j\n",
    "            if j=='home': column='cahome'\n",
    "            try:\n",
    "                with open(folder+'/'+i+'/ping_'+j+'.txt') as f:\n",
    "                    fdata=f.read()\n",
    "                    data.loc[i][pf+'2'+column+'_Loss_Rate']='0.'+re.findall(\"([0-9]+)% packet loss\", fdata)[0]\n",
    "                    data.loc[i][pf+'2'+column+'_RTT_Min']=re.findall(\"rtt min/avg/max/mdev = ([0-9]+\\.[0-9]+)\\/[0-9]+\\.[0-9]+\\/[0-9]+\\.[0-9]+\\/[0-9]+\\.[0-9]+\", fdata)[0]\n",
    "                    data.loc[i][pf+'2'+column+'_RTT_Max']=re.findall(\"rtt min/avg/max/mdev = [0-9]+\\.[0-9]+\\/[0-9]+\\.[0-9]+\\/([0-9]+\\.[0-9]+)\\/[0-9]+\\.[0-9]+\", fdata)[0]\n",
    "                    data.loc[i][pf+'2'+column+'_RTT_Avg']=re.findall(\"rtt min/avg/max/mdev = [0-9]+\\.[0-9]+\\/([0-9]+\\.[0-9]+)\\/[0-9]+\\.[0-9]+\\/[0-9]+\\.[0-9]+\", fdata)[0]\n",
    "                    data.loc[i][pf+'2'+column+'_RTT_stddev']=re.findall(\"rtt min/avg/max/mdev = [0-9]+\\.[0-9]+\\/[0-9]+\\.[0-9]+\\/[0-9]+\\.[0-9]+\\/([0-9]+\\.[0-9]+)\", fdata)[0]\n",
    "            except : \n",
    "                #print('e')\n",
    "                pass \n",
    "            try:\n",
    "                with open(folder+'/'+i+'/tr_'+j+'.txt') as f:\n",
    "                    fdata=f.read()\n",
    "                    data.loc[i][pf+'2'+column+'_Number_of_Hops']=re.findall(\"\\n *([0-9]+)\", fdata)[-1]\n",
    "            except : \n",
    "                #print('e')\n",
    "                pass \n",
    "            try:\n",
    "                data.loc[i][pf+'2'+column+'_stddev/Avg']=\"{:.3f}\".format(float(data.loc[i][pf+'2'+column+'_RTT_stddev'])/float(data.loc[i][pf+'2'+column+'_RTT_Avg']))\n",
    "                data.loc[i][pf+'2'+column+'_Avg/Distance']=\"{:.3f}\".format(float(data.loc[i][pf+'2'+column+'_RTT_Avg'])/float(data.loc[i][pf+'2'+column+'_Distance(est)(km)']))\n",
    "            except : \n",
    "                #print('e')  \n",
    "                pass \n",
    "        ## home\n",
    "        folder='home/771data'\n",
    "        for j in ['ca','jp','home','cn']:\n",
    "            pf='home'\n",
    "            column=j\n",
    "            if j=='home': column='cahome'\n",
    "            try:\n",
    "                with open(folder+'/'+i+'/ping_'+j+'.txt') as f:\n",
    "                    fdata=f.read()\n",
    "                    data.loc[i][pf+'2'+column+'_Loss_Rate']='0.'+re.findall(\"([0-9]+)% packet loss\", fdata)[0]\n",
    "                    data.loc[i][pf+'2'+column+'_RTT_Min']=re.findall(\"rtt min/avg/max/mdev = ([0-9]+\\.[0-9]+)\\/[0-9]+\\.[0-9]+\\/[0-9]+\\.[0-9]+\\/[0-9]+\\.[0-9]+\", fdata)[0]\n",
    "                    data.loc[i][pf+'2'+column+'_RTT_Max']=re.findall(\"rtt min/avg/max/mdev = [0-9]+\\.[0-9]+\\/[0-9]+\\.[0-9]+\\/([0-9]+\\.[0-9]+)\\/[0-9]+\\.[0-9]+\", fdata)[0]\n",
    "                    data.loc[i][pf+'2'+column+'_RTT_Avg']=re.findall(\"rtt min/avg/max/mdev = [0-9]+\\.[0-9]+\\/([0-9]+\\.[0-9]+)\\/[0-9]+\\.[0-9]+\\/[0-9]+\\.[0-9]+\", fdata)[0]\n",
    "                    data.loc[i][pf+'2'+column+'_RTT_stddev']=re.findall(\"rtt min/avg/max/mdev = [0-9]+\\.[0-9]+\\/[0-9]+\\.[0-9]+\\/[0-9]+\\.[0-9]+\\/([0-9]+\\.[0-9]+)\", fdata)[0]\n",
    "            except : \n",
    "                #print('e')\n",
    "                pass \n",
    "            try:\n",
    "                with open(folder+'/'+i+'/tr_'+j+'.txt') as f:\n",
    "                    fdata=f.read()\n",
    "                    data.loc[i][pf+'2'+column+'_Number_of_Hops']=re.findall(\"\\n *([0-9]+)\", fdata)[-1]\n",
    "            except : \n",
    "                #print('e')\n",
    "                pass \n",
    "            try:\n",
    "                data.loc[i][pf+'2'+column+'_stddev/Avg']=\"{:.3f}\".format(float(data.loc[i][pf+'2'+column+'_RTT_stddev'])/float(data.loc[i][pf+'2'+column+'_RTT_Avg']))\n",
    "                data.loc[i][pf+'2'+column+'_Avg/Distance']=\"{:.3f}\".format(float(data.loc[i][pf+'2'+column+'_RTT_Avg'])/float(data.loc[i][pf+'2'+column+'_Distance(est)(km)']))\n",
    "            except : \n",
    "                #print('e')  \n",
    "                pass \n",
    "        ## ca\n",
    "        folder='ca/771data'\n",
    "        cnlist=os.listdir('cn/771data')\n",
    "        calist=os.listdir(folder)\n",
    "        cnlist.sort()\n",
    "        calist.sort()\n",
    "        #print(i,cnlist.index(i))\n",
    "        i2=calist[cnlist.index(i)]\n",
    "        data.loc[i]['time+0(UTC)']=i2\n",
    "        #print(i,i2)\n",
    "        for j in ['jp','home']:\n",
    "            pf='ca'\n",
    "            column=j\n",
    "            if j=='home': column='cahome'\n",
    "            try:\n",
    "                with open(folder+'/'+i2+'/ping_'+j+'.txt') as f:\n",
    "                    fdata=f.read()\n",
    "                    data.loc[i][pf+'2'+column+'_Loss_Rate']='0.'+re.findall(\"([0-9]+)% packet loss\", fdata)[0]\n",
    "                    data.loc[i][pf+'2'+column+'_RTT_Min']=re.findall(\"rtt min/avg/max/mdev = ([0-9]+\\.[0-9]+)\\/[0-9]+\\.[0-9]+\\/[0-9]+\\.[0-9]+\\/[0-9]+\\.[0-9]+\", fdata)[0]\n",
    "                    data.loc[i][pf+'2'+column+'_RTT_Max']=re.findall(\"rtt min/avg/max/mdev = [0-9]+\\.[0-9]+\\/[0-9]+\\.[0-9]+\\/([0-9]+\\.[0-9]+)\\/[0-9]+\\.[0-9]+\", fdata)[0]\n",
    "                    data.loc[i][pf+'2'+column+'_RTT_Avg']=re.findall(\"rtt min/avg/max/mdev = [0-9]+\\.[0-9]+\\/([0-9]+\\.[0-9]+)\\/[0-9]+\\.[0-9]+\\/[0-9]+\\.[0-9]+\", fdata)[0]\n",
    "                    data.loc[i][pf+'2'+column+'_RTT_stddev']=re.findall(\"rtt min/avg/max/mdev = [0-9]+\\.[0-9]+\\/[0-9]+\\.[0-9]+\\/[0-9]+\\.[0-9]+\\/([0-9]+\\.[0-9]+)\", fdata)[0]\n",
    "            except : \n",
    "                #print('e')\n",
    "                pass \n",
    "            try:\n",
    "                with open(folder+'/'+i2+'/tr_'+j+'.txt') as f:\n",
    "                    fdata=f.read()\n",
    "                    data.loc[i][pf+'2'+column+'_Number_of_Hops']=re.findall(\"\\n *([0-9]+)\", fdata)[-1]\n",
    "            except : \n",
    "                #print('e')\n",
    "                pass \n",
    "            try:\n",
    "                data.loc[i][pf+'2'+column+'_stddev/Avg']=\"{:.3f}\".format(float(data.loc[i][pf+'2'+column+'_RTT_stddev'])/float(data.loc[i][pf+'2'+column+'_RTT_Avg']))\n",
    "                data.loc[i][pf+'2'+column+'_Avg/Distance']=\"{:.3f}\".format(float(data.loc[i][pf+'2'+column+'_RTT_Avg'])/float(data.loc[i][pf+'2'+column+'_Distance(est)(km)']))\n",
    "            except : \n",
    "                #print('e')  \n",
    "                pass \n",
    "        ## jp\n",
    "        folder='jp/771data'\n",
    "        #print(i)\n",
    "        for j in ['home']:\n",
    "            pf='jp'\n",
    "            column=j\n",
    "            if j=='home': column='cahome'\n",
    "            try:\n",
    "                with open(folder+'/'+i2+'/ping_'+j+'.txt') as f:\n",
    "                    fdata=f.read()\n",
    "                    data.loc[i][pf+'2'+column+'_Loss_Rate']='0.'+re.findall(\"([0-9]+)% packet loss\", fdata)[0]\n",
    "                    data.loc[i][pf+'2'+column+'_RTT_Min']=re.findall(\"rtt min/avg/max/mdev = ([0-9]+\\.[0-9]+)\\/[0-9]+\\.[0-9]+\\/[0-9]+\\.[0-9]+\\/[0-9]+\\.[0-9]+\", fdata)[0]\n",
    "                    data.loc[i][pf+'2'+column+'_RTT_Max']=re.findall(\"rtt min/avg/max/mdev = [0-9]+\\.[0-9]+\\/[0-9]+\\.[0-9]+\\/([0-9]+\\.[0-9]+)\\/[0-9]+\\.[0-9]+\", fdata)[0]\n",
    "                    data.loc[i][pf+'2'+column+'_RTT_Avg']=re.findall(\"rtt min/avg/max/mdev = [0-9]+\\.[0-9]+\\/([0-9]+\\.[0-9]+)\\/[0-9]+\\.[0-9]+\\/[0-9]+\\.[0-9]+\", fdata)[0]\n",
    "                    data.loc[i][pf+'2'+column+'_RTT_stddev']=re.findall(\"rtt min/avg/max/mdev = [0-9]+\\.[0-9]+\\/[0-9]+\\.[0-9]+\\/[0-9]+\\.[0-9]+\\/([0-9]+\\.[0-9]+)\", fdata)[0]\n",
    "            except : \n",
    "                #print('e')\n",
    "                pass \n",
    "            try:\n",
    "                with open(folder+'/'+i2+'/tr_'+j+'.txt') as f:\n",
    "                    fdata=f.read()\n",
    "                    data.loc[i][pf+'2'+column+'_Number_of_Hops']=re.findall(\"\\n *([0-9]+)\", fdata)[-1]\n",
    "            except : \n",
    "                #print('e')\n",
    "                pass \n",
    "            try:\n",
    "                data.loc[i][pf+'2'+column+'_stddev/Avg']=\"{:.3f}\".format(float(data.loc[i][pf+'2'+column+'_RTT_stddev'])/float(data.loc[i][pf+'2'+column+'_RTT_Avg']))\n",
    "                data.loc[i][pf+'2'+column+'_Avg/Distance']=\"{:.3f}\".format(float(data.loc[i][pf+'2'+column+'_RTT_Avg'])/float(data.loc[i][pf+'2'+column+'_Distance(est)(km)']))\n",
    "            except : \n",
    "                #print('e')  \n",
    "                pass "
   ]
  },
  {
   "cell_type": "code",
   "execution_count": 7,
   "metadata": {},
   "outputs": [],
   "source": [
    "readin(data)"
   ]
  },
  {
   "cell_type": "code",
   "execution_count": 8,
   "metadata": {},
   "outputs": [],
   "source": [
    "data.to_csv('data.csv')"
   ]
  }
 ],
 "metadata": {
  "kernelspec": {
   "display_name": "Python 3",
   "language": "python",
   "name": "python3"
  },
  "language_info": {
   "codemirror_mode": {
    "name": "ipython",
    "version": 3
   },
   "file_extension": ".py",
   "mimetype": "text/x-python",
   "name": "python",
   "nbconvert_exporter": "python",
   "pygments_lexer": "ipython3",
   "version": "3.8.5"
  }
 },
 "nbformat": 4,
 "nbformat_minor": 4
}
